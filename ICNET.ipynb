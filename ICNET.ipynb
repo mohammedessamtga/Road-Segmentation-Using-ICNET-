{
  "nbformat": 4,
  "nbformat_minor": 0,
  "metadata": {
    "colab": {
      "name": "ICNET.ipynb",
      "provenance": [],
      "collapsed_sections": [],
      "toc_visible": true,
      "machine_shape": "hm"
    },
    "kernelspec": {
      "name": "python3",
      "display_name": "Python 3"
    },
    "accelerator": "GPU"
  },
  "cells": [
    {
      "cell_type": "code",
      "metadata": {
        "id": "-ARW3EUuuxR-",
        "colab_type": "code",
        "outputId": "d88c1a91-4fd0-4d33-b426-4ed4c4f89abe",
        "colab": {
          "base_uri": "https://localhost:8080/",
          "height": 52
        }
      },
      "source": [
        "from google.colab import drive\n",
        "drive.mount('/gdrive')\n",
        "%cd /gdrive"
      ],
      "execution_count": 0,
      "outputs": [
        {
          "output_type": "stream",
          "text": [
            "Drive already mounted at /gdrive; to attempt to forcibly remount, call drive.mount(\"/gdrive\", force_remount=True).\n",
            "/gdrive\n"
          ],
          "name": "stdout"
        }
      ]
    },
    {
      "cell_type": "markdown",
      "metadata": {
        "id": "NQq5FtPtu8-L",
        "colab_type": "text"
      },
      "source": [
        "# Imports "
      ]
    },
    {
      "cell_type": "code",
      "metadata": {
        "id": "WcUEtv0Pn4RB",
        "colab_type": "code",
        "colab": {}
      },
      "source": [
        "import cv2\n",
        "import os \n",
        "import pandas as pd \n",
        "import numpy as np \n",
        "from keras.layers import Activation\n",
        "from keras.layers import Lambda\n",
        "from keras.layers import Conv2D\n",
        "from keras.layers import Add\n",
        "from keras.layers import MaxPooling2D\n",
        "from keras.layers import AveragePooling2D\n",
        "from keras.layers import ZeroPadding2D\n",
        "from keras.layers import Input\n",
        "from keras.layers import BatchNormalization\n",
        "from keras.models import Model\n",
        "import keras.backend as K\n",
        "import tensorflow as tf\n",
        "from google.colab.patches import cv2_imshow\n",
        "#%tensorflow_version 1.x magic"
      ],
      "execution_count": 0,
      "outputs": []
    },
    {
      "cell_type": "code",
      "metadata": {
        "id": "GiDMdW86IJqQ",
        "colab_type": "code",
        "colab": {}
      },
      "source": [
        "dm  = (1280,320)\n",
        "dm1 = (320,80)\n",
        "dm2 = (160,40)\n",
        "dm3 = (80,20)"
      ],
      "execution_count": 0,
      "outputs": []
    },
    {
      "cell_type": "code",
      "metadata": {
        "id": "bYUVzqXCAm-T",
        "colab_type": "code",
        "colab": {}
      },
      "source": [
        "def prepare_input(path = '/gdrive/My Drive/training/image_2'):\n",
        "    tmp = [] \n",
        "    for item in os.listdir(path):\n",
        "          tmp.append(item)\n",
        "    tmp.sort()\n",
        "    x = [] \n",
        "    for item in  tmp:\n",
        "       tmpo = cv2.resize(cv2.imread(path+'/'+str(item)),dm)\n",
        "       x.append(tmpo)\n",
        "    X=x\n",
        "    X=np.array(X)\n",
        "    return X "
      ],
      "execution_count": 0,
      "outputs": []
    },
    {
      "cell_type": "code",
      "metadata": {
        "id": "SjGvc-opvyO2",
        "colab_type": "code",
        "colab": {}
      },
      "source": [
        "def prepare_label(path = '/gdrive/My Drive/training/gt_image_2'):\n",
        "    tmp = [] \n",
        "    for item in os.listdir(path):\n",
        "       tmp.append(item)\n",
        "    tmp.sort()\n",
        "    y = [] \n",
        "    for item in  tmp:\n",
        "        tmpo = cv2.resize(cv2.imread(path+'/'+str(item)),dm)\n",
        "        y.append(tmpo)\n",
        "    Y=y\n",
        "    Y=np.array(Y)   \n",
        "    tmp1 = []\n",
        "    tmp2 = [] \n",
        "    tmp3 = []\n",
        "    for item in Y : \n",
        "      tmpo = item \n",
        "      tmp1.append(cv2.resize(tmpo,dm1))\n",
        "      tmp2.append(cv2.resize(tmpo,dm2))\n",
        "      tmp3.append(cv2.resize(tmpo,dm3))\n",
        "    return tmp1,tmp2,tmp3"
      ],
      "execution_count": 0,
      "outputs": []
    },
    {
      "cell_type": "code",
      "metadata": {
        "id": "EgmiEP5X2oEP",
        "colab_type": "code",
        "colab": {}
      },
      "source": [
        "to_class=dict() \n",
        "to_color=dict() \n",
        "to_class[(0,0,0)]=0\n",
        "to_class[(0,0,255)]=1\n",
        "to_class[(255,0,255)]=2\n",
        "to_color[0]=(0,0,0)\n",
        "to_color[1]=(0,0,255)\n",
        "to_color[2]=(255,0,255)"
      ],
      "execution_count": 0,
      "outputs": []
    },
    {
      "cell_type": "code",
      "metadata": {
        "id": "87t62SoP4seF",
        "colab_type": "code",
        "colab": {}
      },
      "source": [
        " def similar(x):\n",
        "   a,b,c=x\n",
        "   mn1=abs(0-a)+abs(0-b)+abs(0-c)\n",
        "   mn2=abs(0-a)+abs(0-b)+abs(255-c)\n",
        "   mn3=abs(255-a)+abs(0-b)+abs(255-c)\n",
        "   if mn1<mn2 and mn1 < mn3 : \n",
        "     return 0\n",
        "   elif mn2<mn1 and mn2<mn3: \n",
        "     return 1 \n",
        "   else:\n",
        "     return 2 \n",
        "def encode_label(labels):\n",
        "  val = np.zeros((np.shape(labels)[0],np.shape(labels)[1],np.shape(labels)[2],1))\n",
        "  for i in range(np.shape(labels)[0]):\n",
        "   for j in range(np.shape(labels)[1]):\n",
        "       for k in range(np.shape(labels)[2]):\n",
        "           if(tuple(labels[i][j][k])==(0,0,0)):\n",
        "              val[i][j][k]=0\n",
        "           elif(tuple(labels[i][j][k])==(0,0,255)):\n",
        "              val[i][j][k]=1\n",
        "           elif(tuple(labels[i][j][k])==(255,0,255)):\n",
        "              val[i][j][k]=2\n",
        "           else:\n",
        "              val[i][j][k]=similar(tuple(labels[0][j][k]))\n",
        "  return val\n",
        "\n"
      ],
      "execution_count": 0,
      "outputs": []
    },
    {
      "cell_type": "code",
      "metadata": {
        "id": "M7hRFmTcTLMr",
        "colab_type": "code",
        "colab": {}
      },
      "source": [
        "def build(width, height, n_classes, weights_path=\"/gdrive/My Drive/training/model.h5\", train=False):\n",
        "    inp = Input(shape=(height, width, 3))\n",
        "    x = Lambda(lambda x: (x - 127.5)/255.0)(inp)\n",
        "\n",
        "    # (1/2)\n",
        "    y = Lambda(lambda x: tf.image.resize_bilinear(x, size=(int(x.shape[1])//2, int(x.shape[2])//2)), name='data_sub2')(x)\n",
        "    y = Conv2D(32, 3, strides=2, padding='same', activation='relu', name='conv1_1_3x3_s2')(y)\n",
        "    y = Conv2D(32, 3, padding='same', activation='relu', name='conv1_2_3x3')(y)\n",
        "    y = Conv2D(64, 3, padding='same', activation='relu', name='conv1_3_3x3')(y)\n",
        "    y_ = MaxPooling2D(pool_size=3, strides=2, name='pool1_3x3_s2')(y)\n",
        "    y = Conv2D(128, 1, name='conv2_1_1x1_proj')(y_)\n",
        "\n",
        "    y_ = Conv2D(32, 1, activation='relu', name='conv2_1_1x1_reduce')(y_)\n",
        "    y_ = ZeroPadding2D(name='padding1')(y_)\n",
        "    y_ = Conv2D(32, 3, activation='relu', name='conv2_1_3x3')(y_)\n",
        "    y_ = Conv2D(128, 1, name='conv2_1_1x1_increase')(y_)\n",
        "    y = Add(name='conv2_1')([y,y_])\n",
        "    y_ = Activation('relu', name='conv2_1/relu')(y)\n",
        "\n",
        "    y = Conv2D(32, 1, activation='relu', name='conv2_2_1x1_reduce')(y_)\n",
        "    y = ZeroPadding2D(name='padding2')(y)\n",
        "    y = Conv2D(32, 3, activation='relu', name='conv2_2_3x3')(y)\n",
        "    y = Conv2D(128, 1, name='conv2_2_1x1_increase')(y)\n",
        "    y = Add(name='conv2_2')([y,y_])\n",
        "    y_ = Activation('relu', name='conv2_2/relu')(y)\n",
        "\n",
        "    y = Conv2D(32, 1, activation='relu', name='conv2_3_1x1_reduce')(y_)\n",
        "    y = ZeroPadding2D(name='padding3')(y)\n",
        "    y = Conv2D(32, 3, activation='relu', name='conv2_3_3x3')(y)\n",
        "    y = Conv2D(128, 1, name='conv2_3_1x1_increase')(y)\n",
        "    y = Add(name='conv2_3')([y,y_])\n",
        "    y_ = Activation('relu', name='conv2_3/relu')(y)\n",
        "\n",
        "    y = Conv2D(256, 1, strides=2, name='conv3_1_1x1_proj')(y_)\n",
        "    y_ = Conv2D(64, 1, strides=2, activation='relu', name='conv3_1_1x1_reduce')(y_) \n",
        "    y_ = ZeroPadding2D(name='padding4')(y_)\n",
        "    y_ = Conv2D(64, 3, activation='relu', name='conv3_1_3x3')(y_)\n",
        "    y_ = Conv2D(256, 1, name='conv3_1_1x1_increase')(y_)\n",
        "    y = Add(name='conv3_1')([y,y_])\n",
        "    z = Activation('relu', name='conv3_1/relu')(y)\n",
        "\n",
        "    # (1/4)\n",
        "    y_ = Lambda(lambda x: tf.image.resize_bilinear(x, size=(int(x.shape[1])//2, int(x.shape[2])//2)), name='conv3_1_sub4')(z)\n",
        "    y = Conv2D(64, 1, activation='relu', name='conv3_2_1x1_reduce')(y_)\n",
        "    y = ZeroPadding2D(name='padding5')(y)\n",
        "    y = Conv2D(64, 3, activation='relu', name='conv3_2_3x3')(y)\n",
        "    y = Conv2D(256, 1, name='conv3_2_1x1_increase')(y)\n",
        "    y = Add(name='conv3_2')([y,y_])\n",
        "    y_ = Activation('relu', name='conv3_2/relu')(y)\n",
        "\n",
        "    y = Conv2D(64, 1, activation='relu', name='conv3_3_1x1_reduce')(y_)\n",
        "    y = ZeroPadding2D(name='padding6')(y)\n",
        "    y = Conv2D(64, 3, activation='relu', name='conv3_3_3x3')(y)\n",
        "    y = Conv2D(256, 1, name='conv3_3_1x1_increase')(y)\n",
        "    y = Add(name='conv3_3')([y,y_])\n",
        "    y_ = Activation('relu', name='conv3_3/relu')(y)\n",
        "\n",
        "    y = Conv2D(64, 1, activation='relu', name='conv3_4_1x1_reduce')(y_)\n",
        "    y = ZeroPadding2D(name='padding7')(y)\n",
        "    y = Conv2D(64, 3, activation='relu', name='conv3_4_3x3')(y)\n",
        "    y = Conv2D(256, 1, name='conv3_4_1x1_increase')(y)\n",
        "    y = Add(name='conv3_4')([y,y_])\n",
        "    y_ = Activation('relu', name='conv3_4/relu')(y)\n",
        "\n",
        "    y = Conv2D(512, 1, name='conv4_1_1x1_proj')(y_)\n",
        "    y_ = Conv2D(128, 1, activation='relu', name='conv4_1_1x1_reduce')(y_)\n",
        "    y_ = ZeroPadding2D(padding=2, name='padding8')(y_)\n",
        "    y_ = Conv2D(128, 3, dilation_rate=2, activation='relu', name='conv4_1_3x3')(y_)\n",
        "    y_ = Conv2D(512, 1, name='conv4_1_1x1_increase')(y_)\n",
        "    y = Add(name='conv4_1')([y,y_])\n",
        "    y_ = Activation('relu', name='conv4_1/relu')(y)\n",
        "\n",
        "    y = Conv2D(128, 1, activation='relu', name='conv4_2_1x1_reduce')(y_)\n",
        "    y = ZeroPadding2D(padding=2, name='padding9')(y)\n",
        "    y = Conv2D(128, 3, dilation_rate=2, activation='relu', name='conv4_2_3x3')(y)\n",
        "    y = Conv2D(512, 1, name='conv4_2_1x1_increase')(y)\n",
        "    y = Add(name='conv4_2')([y,y_])\n",
        "    y_ = Activation('relu', name='conv4_2/relu')(y)\n",
        "\n",
        "    y = Conv2D(128, 1, activation='relu', name='conv4_3_1x1_reduce')(y_)\n",
        "    y = ZeroPadding2D(padding=2, name='padding10')(y)\n",
        "    y = Conv2D(128, 3, dilation_rate=2, activation='relu', name='conv4_3_3x3')(y)\n",
        "    y = Conv2D(512, 1, name='conv4_3_1x1_increase')(y)\n",
        "    y = Add(name='conv4_3')([y,y_])\n",
        "    y_ = Activation('relu', name='conv4_3/relu')(y)\n",
        "\n",
        "    y = Conv2D(128, 1, activation='relu', name='conv4_4_1x1_reduce')(y_)\n",
        "    y = ZeroPadding2D(padding=2, name='padding11')(y)\n",
        "    y = Conv2D(128, 3, dilation_rate=2, activation='relu', name='conv4_4_3x3')(y)\n",
        "    y = Conv2D(512, 1, name='conv4_4_1x1_increase')(y)\n",
        "    y = Add(name='conv4_4')([y,y_])\n",
        "    y_ = Activation('relu', name='conv4_4/relu')(y)\n",
        "\n",
        "    y = Conv2D(128, 1, activation='relu', name='conv4_5_1x1_reduce')(y_)\n",
        "    y = ZeroPadding2D(padding=2, name='padding12')(y)\n",
        "    y = Conv2D(128, 3, dilation_rate=2, activation='relu', name='conv4_5_3x3')(y)\n",
        "    y = Conv2D(512, 1, name='conv4_5_1x1_increase')(y)\n",
        "    y = Add(name='conv4_5')([y,y_])\n",
        "    y_ = Activation('relu', name='conv4_5/relu')(y)\n",
        "\n",
        "    y = Conv2D(128, 1, activation='relu', name='conv4_6_1x1_reduce')(y_)\n",
        "    y = ZeroPadding2D(padding=2, name='padding13')(y)\n",
        "    y = Conv2D(128, 3, dilation_rate=2, activation='relu', name='conv4_6_3x3')(y)\n",
        "    y = Conv2D(512, 1, name='conv4_6_1x1_increase')(y)\n",
        "    y = Add(name='conv4_6')([y,y_])\n",
        "    y = Activation('relu', name='conv4_6/relu')(y)\n",
        "\n",
        "    y_ = Conv2D(1024, 1, name='conv5_1_1x1_proj')(y)\n",
        "    y = Conv2D(256, 1, activation='relu', name='conv5_1_1x1_reduce')(y)\n",
        "    y = ZeroPadding2D(padding=4, name='padding14')(y)\n",
        "    y = Conv2D(256, 3, dilation_rate=4, activation='relu', name='conv5_1_3x3')(y)\n",
        "    y = Conv2D(1024, 1, name='conv5_1_1x1_increase')(y)\n",
        "    y = Add(name='conv5_1')([y,y_])\n",
        "    y_ = Activation('relu', name='conv5_1/relu')(y)\n",
        "\n",
        "    y = Conv2D(256, 1, activation='relu', name='conv5_2_1x1_reduce')(y_)\n",
        "    y = ZeroPadding2D(padding=4, name='padding15')(y)\n",
        "    y = Conv2D(256, 3, dilation_rate=4, activation='relu', name='conv5_2_3x3')(y)\n",
        "    y = Conv2D(1024, 1, name='conv5_2_1x1_increase')(y)\n",
        "    y = Add(name='conv5_2')([y,y_])\n",
        "    y_ = Activation('relu', name='conv5_2/relu')(y)\n",
        "\n",
        "    y = Conv2D(256, 1, activation='relu', name='conv5_3_1x1_reduce')(y_)\n",
        "    y = ZeroPadding2D(padding=4, name='padding16')(y)\n",
        "    y = Conv2D(256, 3, dilation_rate=4, activation='relu', name='conv5_3_3x3')(y)\n",
        "    y = Conv2D(1024, 1, name='conv5_3_1x1_increase')(y)\n",
        "    y = Add(name='conv5_3')([y,y_])\n",
        "    y = Activation('relu', name='conv5_3/relu')(y)\n",
        "\n",
        "    h, w = y.shape[1:3].as_list()\n",
        "    pool1 = AveragePooling2D(pool_size=(h,w), strides=(h,w), name='conv5_3_pool1')(y)\n",
        "    pool1 = Lambda(lambda x: tf.image.resize_bilinear(x, size=(h,w)), name='conv5_3_pool1_interp')(pool1)\n",
        "    pool2 = AveragePooling2D(pool_size=(h/2,w/2), strides=(h//2,w//2), name='conv5_3_pool2')(y)\n",
        "    pool2 = Lambda(lambda x: tf.image.resize_bilinear(x, size=(h,w)), name='conv5_3_pool2_interp')(pool2)\n",
        "    pool3 = AveragePooling2D(pool_size=(h/3,w/3), strides=(h//3,w//3), name='conv5_3_pool3')(y)\n",
        "    pool3 = Lambda(lambda x: tf.image.resize_bilinear(x, size=(h,w)), name='conv5_3_pool3_interp')(pool3)\n",
        "    pool6 = AveragePooling2D(pool_size=(h/4,w/4), strides=(h//4,w//4), name='conv5_3_pool6')(y)\n",
        "    pool6 = Lambda(lambda x: tf.image.resize_bilinear(x, size=(h,w)), name='conv5_3_pool6_interp')(pool6)\n",
        "\n",
        "    y = Add(name='conv5_3_sum')([y, pool1, pool2, pool3, pool6])\n",
        "    y = Conv2D(256, 1, activation='relu', name='conv5_4_k1')(y)\n",
        "    aux_1 = Lambda(lambda x: tf.image.resize_bilinear(x, size=(int(x.shape[1])*2, int(x.shape[2])*2)), name='conv5_4_interp')(y)\n",
        "    y = ZeroPadding2D(padding=2, name='padding17')(aux_1)\n",
        "    y = Conv2D(128, 3, dilation_rate=2, name='conv_sub4')(y)\n",
        "    y_ = Conv2D(128, 1, name='conv3_1_sub2_proj')(z)\n",
        "    y = Add(name='sub24_sum')([y,y_])\n",
        "    y = Activation('relu', name='sub24_sum/relu')(y)\n",
        "\n",
        "    aux_2 = Lambda(lambda x: tf.image.resize_bilinear(x, size=(int(x.shape[1])*2, int(x.shape[2])*2)), name='sub24_sum_interp')(y)\n",
        "    y = ZeroPadding2D(padding=2, name='padding18')(aux_2)\n",
        "    y_ = Conv2D(128, 3, dilation_rate=2, name='conv_sub2')(y)\n",
        "\n",
        "    # (1)\n",
        "    y = Conv2D(32, 3, strides=2, padding='same', activation='relu', name='conv1_sub1')(x)\n",
        "    y = Conv2D(32, 3, strides=2, padding='same', activation='relu', name='conv2_sub1')(y)\n",
        "    y = Conv2D(64, 3, strides=2, padding='same', activation='relu', name='conv3_sub1')(y)\n",
        "    y = Conv2D(128, 1, name='conv3_sub1_proj')(y)\n",
        "\n",
        "    y = Add(name='sub12_sum')([y,y_])\n",
        "    y = Activation('relu', name='sub12_sum/relu')(y)\n",
        "    y = Lambda(lambda x: tf.image.resize_bilinear(x, size=(int(x.shape[1])*2, int(x.shape[2])*2)), name='sub12_sum_interp')(y)\n",
        "\n",
        "    out = Conv2D(n_classes, 1, activation='softmax', name='conv6_cls')(y)\n",
        "\n",
        "    if train:\n",
        "        aux_1 = Conv2D(n_classes, 1, activation='softmax', name='sub4_out')(aux_1)\n",
        "        aux_2 = Conv2D(n_classes, 1, activation='softmax', name='sub24_out')(aux_2)\n",
        "\n",
        "        model = Model(inputs=inp, outputs=[out, aux_2, aux_1])\n",
        "    else:\n",
        "        model = Model(inputs=inp, outputs=out)\n",
        "        \n",
        "    if weights_path is not None:\n",
        "        model = load_model(weights_path,custom_objects={'tf': tf})\n",
        "    return model"
      ],
      "execution_count": 0,
      "outputs": []
    },
    {
      "cell_type": "code",
      "metadata": {
        "id": "5SVwPxC4xRpJ",
        "colab_type": "code",
        "colab": {}
      },
      "source": [
        "from keras import optimizers \n",
        "sgd = optimizers.SGD(lr=0.01, decay=1e-6, momentum=0.9)\n",
        "m.compile(sgd, 'categorical_crossentropy', loss_weights=[1.0, 0.4, 0.16], metrics=['categorical_accuracy'])\n",
        "m.fit(x=X,y=[tmp1,tmp2,tmp3],epochs=10000, callbacks=callbacks_list)"
      ],
      "execution_count": 0,
      "outputs": []
    },
    {
      "cell_type": "code",
      "metadata": {
        "id": "wT8XnPUp8jXY",
        "colab_type": "code",
        "colab": {}
      },
      "source": [
        "import time \n",
        "start_time = time.time()\n",
        "new_model=build(width=1280,height=320,n_classes=3,train=False)\n",
        "y = new_model.predict(X[0:30], batch_size=30)\n",
        "duration = time.time() - start_time\n",
        "#y = np.reshape(y[0],(290,80,320,3))\n",
        "yy = [] \n",
        "for i in range(y.shape[0]):\n",
        "   yy.append(cv2.resize(y[i],dm))\n",
        "a = np.argmax(yy,axis=3)"
      ],
      "execution_count": 0,
      "outputs": []
    },
    {
      "cell_type": "code",
      "metadata": {
        "id": "1liQcO5pBvPx",
        "colab_type": "code",
        "colab": {}
      },
      "source": [
        "from keras.utils import to_categorical\n",
        "tmp1 = encode_label(tmp1)  \n",
        "tmp2 = encode_label(tmp2)\n",
        "tmp3 = encode_label(tmp3)\n",
        "tmp1 = to_categorical(tmp1,3)\n",
        "tmp2 = to_categorical(tmp2,3)\n",
        "tmp3 = to_categorical(tmp3,3)"
      ],
      "execution_count": 0,
      "outputs": []
    },
    {
      "cell_type": "code",
      "metadata": {
        "id": "e_AwPbJbWEoI",
        "colab_type": "code",
        "outputId": "ad387ab0-b115-4191-828e-0a5a95c853ca",
        "colab": {
          "base_uri": "https://localhost:8080/",
          "height": 34
        }
      },
      "source": [
        "prd_list=[]\n",
        "for ctr in range(290):\n",
        "  prd = X[ctr]\n",
        "  for i in range(np.shape(prd)[0]):\n",
        "    for j in range(np.shape(prd)[1]):\n",
        "        if a[ctr][i][j]==2:\n",
        "           prd[i][j]=(0,255,0)\n",
        "  prd_list.append(prd)\n",
        "print(np.shape(prd_list))"
      ],
      "execution_count": 0,
      "outputs": [
        {
          "output_type": "stream",
          "text": [
            "(290, 320, 1280, 3)\n"
          ],
          "name": "stdout"
        }
      ]
    },
    {
      "cell_type": "code",
      "metadata": {
        "id": "4eagdSoDb3I1",
        "colab_type": "code",
        "colab": {}
      },
      "source": [
        "def to_video(prd_list,path='/gdrive/My Drive/training/test_road.mp4'):\n",
        "    out = cv2.VideoWriter(path,cv2.VideoWriter_fourcc(*'MP4V'), 7.0, (320,1280))\n",
        "    for i in range(len(prd_list)):\n",
        "        frame = prd_list[i]\n",
        "        print(np.shape(frame))\n",
        "        out.write(frame)\n",
        "    out.release()\n",
        "    cv2.destroyAllWindows()"
      ],
      "execution_count": 0,
      "outputs": []
    },
    {
      "cell_type": "code",
      "metadata": {
        "id": "SoUSoDDxOUWX",
        "colab_type": "code",
        "colab": {}
      },
      "source": [
        "def read_video(path):\n",
        "    cap = cv2.VideoCapture(path)\n",
        "    frames=[]\n",
        "    while True: \n",
        "      ret , frame = cap.read() \n",
        "      if ret == False:\n",
        "        break\n",
        "      frames.append(frame)\n",
        "    return frames    "
      ],
      "execution_count": 0,
      "outputs": []
    },
    {
      "cell_type": "code",
      "metadata": {
        "id": "aOgBMtiGjnLr",
        "colab_type": "code",
        "colab": {}
      },
      "source": [
        "def re_size(images):\n",
        "     x = [] \n",
        "     for item in  images:\n",
        "         tmpo = cv2.resize(item,dm)\n",
        "         x.append(tmpo)\n",
        "     X=x\n",
        "     x=[]\n",
        "     X=np.array(X)\n",
        "     return X "
      ],
      "execution_count": 0,
      "outputs": []
    },
    {
      "cell_type": "code",
      "metadata": {
        "id": "8WDR3ltI3u04",
        "colab_type": "code",
        "outputId": "04702c70-6ed4-4a08-adb0-7fd303995a23",
        "colab": {
          "base_uri": "https://localhost:8080/",
          "height": 34
        }
      },
      "source": [
        "images = read_video('/gdrive/My Drive/road_car_view.mp4')\n",
        "\n",
        "np.shape(images)"
      ],
      "execution_count": 0,
      "outputs": [
        {
          "output_type": "execute_result",
          "data": {
            "text/plain": [
              "(2439, 720, 1280, 3)"
            ]
          },
          "metadata": {
            "tags": []
          },
          "execution_count": 8
        }
      ]
    },
    {
      "cell_type": "code",
      "metadata": {
        "id": "A4BsAtIpio2x",
        "colab_type": "code",
        "outputId": "dec2e6cc-9909-40fc-a2ce-9fe188a4af67",
        "colab": {
          "base_uri": "https://localhost:8080/",
          "height": 34
        }
      },
      "source": [
        "sz = np.shape(images)\n",
        "X = re_size(images)\n",
        "np.shape(X)"
      ],
      "execution_count": 0,
      "outputs": [
        {
          "output_type": "execute_result",
          "data": {
            "text/plain": [
              "(2439, 320, 1280, 3)"
            ]
          },
          "metadata": {
            "tags": []
          },
          "execution_count": 9
        }
      ]
    },
    {
      "cell_type": "code",
      "metadata": {
        "id": "kKFyy3snk-Gd",
        "colab_type": "code",
        "outputId": "72f8f266-4195-4229-b732-058f4478beb0",
        "colab": {
          "base_uri": "https://localhost:8080/",
          "height": 587
        }
      },
      "source": [
        "model = load_model(\"/gdrive/My Drive/training/model.h5\",custom_objects={'tf': tf})"
      ],
      "execution_count": 0,
      "outputs": [
        {
          "output_type": "stream",
          "text": [
            "WARNING:tensorflow:From /usr/local/lib/python3.6/dist-packages/keras/backend/tensorflow_backend.py:541: The name tf.placeholder is deprecated. Please use tf.compat.v1.placeholder instead.\n",
            "\n",
            "WARNING:tensorflow:From /usr/local/lib/python3.6/dist-packages/keras/backend/tensorflow_backend.py:4432: The name tf.random_uniform is deprecated. Please use tf.random.uniform instead.\n",
            "\n",
            "WARNING:tensorflow:From /usr/local/lib/python3.6/dist-packages/keras/backend/tensorflow_backend.py:4267: The name tf.nn.max_pool is deprecated. Please use tf.nn.max_pool2d instead.\n",
            "\n",
            "WARNING:tensorflow:From /usr/local/lib/python3.6/dist-packages/keras/backend/tensorflow_backend.py:4271: The name tf.nn.avg_pool is deprecated. Please use tf.nn.avg_pool2d instead.\n",
            "\n",
            "WARNING:tensorflow:From /usr/local/lib/python3.6/dist-packages/keras/backend/tensorflow_backend.py:190: The name tf.get_default_session is deprecated. Please use tf.compat.v1.get_default_session instead.\n",
            "\n",
            "WARNING:tensorflow:From /usr/local/lib/python3.6/dist-packages/keras/backend/tensorflow_backend.py:197: The name tf.ConfigProto is deprecated. Please use tf.compat.v1.ConfigProto instead.\n",
            "\n",
            "WARNING:tensorflow:From /usr/local/lib/python3.6/dist-packages/keras/backend/tensorflow_backend.py:203: The name tf.Session is deprecated. Please use tf.compat.v1.Session instead.\n",
            "\n",
            "WARNING:tensorflow:From /usr/local/lib/python3.6/dist-packages/keras/backend/tensorflow_backend.py:207: The name tf.global_variables is deprecated. Please use tf.compat.v1.global_variables instead.\n",
            "\n",
            "WARNING:tensorflow:From /usr/local/lib/python3.6/dist-packages/keras/backend/tensorflow_backend.py:216: The name tf.is_variable_initialized is deprecated. Please use tf.compat.v1.is_variable_initialized instead.\n",
            "\n",
            "WARNING:tensorflow:From /usr/local/lib/python3.6/dist-packages/keras/backend/tensorflow_backend.py:223: The name tf.variables_initializer is deprecated. Please use tf.compat.v1.variables_initializer instead.\n",
            "\n",
            "WARNING:tensorflow:From /usr/local/lib/python3.6/dist-packages/keras/optimizers.py:793: The name tf.train.Optimizer is deprecated. Please use tf.compat.v1.train.Optimizer instead.\n",
            "\n",
            "WARNING:tensorflow:From /usr/local/lib/python3.6/dist-packages/keras/backend/tensorflow_backend.py:3576: The name tf.log is deprecated. Please use tf.math.log instead.\n",
            "\n",
            "WARNING:tensorflow:From /usr/local/lib/python3.6/dist-packages/tensorflow_core/python/ops/math_grad.py:1424: where (from tensorflow.python.ops.array_ops) is deprecated and will be removed in a future version.\n",
            "Instructions for updating:\n",
            "Use tf.where in 2.0, which has the same broadcast rule as np.where\n",
            "WARNING:tensorflow:From /usr/local/lib/python3.6/dist-packages/keras/backend/tensorflow_backend.py:1033: The name tf.assign_add is deprecated. Please use tf.compat.v1.assign_add instead.\n",
            "\n",
            "WARNING:tensorflow:From /usr/local/lib/python3.6/dist-packages/keras/backend/tensorflow_backend.py:1020: The name tf.assign is deprecated. Please use tf.compat.v1.assign instead.\n",
            "\n"
          ],
          "name": "stdout"
        }
      ]
    },
    {
      "cell_type": "code",
      "metadata": {
        "id": "VVqE78cYlcrY",
        "colab_type": "code",
        "outputId": "4445a5a7-41af-4753-ea3e-85f90a1eec78",
        "colab": {
          "base_uri": "https://localhost:8080/"
        }
      },
      "source": [
        "#images=[]\n",
        "model.summary()"
      ],
      "execution_count": 0,
      "outputs": [
        {
          "output_type": "stream",
          "text": [
            "Model: \"model_1\"\n",
            "__________________________________________________________________________________________________\n",
            "Layer (type)                    Output Shape         Param #     Connected to                     \n",
            "==================================================================================================\n",
            "input_1 (InputLayer)            (None, 320, 1280, 3) 0                                            \n",
            "__________________________________________________________________________________________________\n",
            "lambda_1 (Lambda)               (None, 320, 1280, 3) 0           input_1[0][0]                    \n",
            "__________________________________________________________________________________________________\n",
            "data_sub2 (Lambda)              (None, 160, 640, 3)  0           lambda_1[0][0]                   \n",
            "__________________________________________________________________________________________________\n",
            "conv1_1_3x3_s2 (Conv2D)         (None, 80, 320, 32)  896         data_sub2[0][0]                  \n",
            "__________________________________________________________________________________________________\n",
            "conv1_2_3x3 (Conv2D)            (None, 80, 320, 32)  9248        conv1_1_3x3_s2[0][0]             \n",
            "__________________________________________________________________________________________________\n",
            "conv1_3_3x3 (Conv2D)            (None, 80, 320, 64)  18496       conv1_2_3x3[0][0]                \n",
            "__________________________________________________________________________________________________\n",
            "pool1_3x3_s2 (MaxPooling2D)     (None, 39, 159, 64)  0           conv1_3_3x3[0][0]                \n",
            "__________________________________________________________________________________________________\n",
            "conv2_1_1x1_reduce (Conv2D)     (None, 39, 159, 32)  2080        pool1_3x3_s2[0][0]               \n",
            "__________________________________________________________________________________________________\n",
            "padding1 (ZeroPadding2D)        (None, 41, 161, 32)  0           conv2_1_1x1_reduce[0][0]         \n",
            "__________________________________________________________________________________________________\n",
            "conv2_1_3x3 (Conv2D)            (None, 39, 159, 32)  9248        padding1[0][0]                   \n",
            "__________________________________________________________________________________________________\n",
            "conv2_1_1x1_proj (Conv2D)       (None, 39, 159, 128) 8320        pool1_3x3_s2[0][0]               \n",
            "__________________________________________________________________________________________________\n",
            "conv2_1_1x1_increase (Conv2D)   (None, 39, 159, 128) 4224        conv2_1_3x3[0][0]                \n",
            "__________________________________________________________________________________________________\n",
            "conv2_1 (Add)                   (None, 39, 159, 128) 0           conv2_1_1x1_proj[0][0]           \n",
            "                                                                 conv2_1_1x1_increase[0][0]       \n",
            "__________________________________________________________________________________________________\n",
            "conv2_1/relu (Activation)       (None, 39, 159, 128) 0           conv2_1[0][0]                    \n",
            "__________________________________________________________________________________________________\n",
            "conv2_2_1x1_reduce (Conv2D)     (None, 39, 159, 32)  4128        conv2_1/relu[0][0]               \n",
            "__________________________________________________________________________________________________\n",
            "padding2 (ZeroPadding2D)        (None, 41, 161, 32)  0           conv2_2_1x1_reduce[0][0]         \n",
            "__________________________________________________________________________________________________\n",
            "conv2_2_3x3 (Conv2D)            (None, 39, 159, 32)  9248        padding2[0][0]                   \n",
            "__________________________________________________________________________________________________\n",
            "conv2_2_1x1_increase (Conv2D)   (None, 39, 159, 128) 4224        conv2_2_3x3[0][0]                \n",
            "__________________________________________________________________________________________________\n",
            "conv2_2 (Add)                   (None, 39, 159, 128) 0           conv2_2_1x1_increase[0][0]       \n",
            "                                                                 conv2_1/relu[0][0]               \n",
            "__________________________________________________________________________________________________\n",
            "conv2_2/relu (Activation)       (None, 39, 159, 128) 0           conv2_2[0][0]                    \n",
            "__________________________________________________________________________________________________\n",
            "conv2_3_1x1_reduce (Conv2D)     (None, 39, 159, 32)  4128        conv2_2/relu[0][0]               \n",
            "__________________________________________________________________________________________________\n",
            "padding3 (ZeroPadding2D)        (None, 41, 161, 32)  0           conv2_3_1x1_reduce[0][0]         \n",
            "__________________________________________________________________________________________________\n",
            "conv2_3_3x3 (Conv2D)            (None, 39, 159, 32)  9248        padding3[0][0]                   \n",
            "__________________________________________________________________________________________________\n",
            "conv2_3_1x1_increase (Conv2D)   (None, 39, 159, 128) 4224        conv2_3_3x3[0][0]                \n",
            "__________________________________________________________________________________________________\n",
            "conv2_3 (Add)                   (None, 39, 159, 128) 0           conv2_3_1x1_increase[0][0]       \n",
            "                                                                 conv2_2/relu[0][0]               \n",
            "__________________________________________________________________________________________________\n",
            "conv2_3/relu (Activation)       (None, 39, 159, 128) 0           conv2_3[0][0]                    \n",
            "__________________________________________________________________________________________________\n",
            "conv3_1_1x1_reduce (Conv2D)     (None, 20, 80, 64)   8256        conv2_3/relu[0][0]               \n",
            "__________________________________________________________________________________________________\n",
            "padding4 (ZeroPadding2D)        (None, 22, 82, 64)   0           conv3_1_1x1_reduce[0][0]         \n",
            "__________________________________________________________________________________________________\n",
            "conv3_1_3x3 (Conv2D)            (None, 20, 80, 64)   36928       padding4[0][0]                   \n",
            "__________________________________________________________________________________________________\n",
            "conv3_1_1x1_proj (Conv2D)       (None, 20, 80, 256)  33024       conv2_3/relu[0][0]               \n",
            "__________________________________________________________________________________________________\n",
            "conv3_1_1x1_increase (Conv2D)   (None, 20, 80, 256)  16640       conv3_1_3x3[0][0]                \n",
            "__________________________________________________________________________________________________\n",
            "conv3_1 (Add)                   (None, 20, 80, 256)  0           conv3_1_1x1_proj[0][0]           \n",
            "                                                                 conv3_1_1x1_increase[0][0]       \n",
            "__________________________________________________________________________________________________\n",
            "conv3_1/relu (Activation)       (None, 20, 80, 256)  0           conv3_1[0][0]                    \n",
            "__________________________________________________________________________________________________\n",
            "conv3_1_sub4 (Lambda)           (None, 10, 40, 256)  0           conv3_1/relu[0][0]               \n",
            "__________________________________________________________________________________________________\n",
            "conv3_2_1x1_reduce (Conv2D)     (None, 10, 40, 64)   16448       conv3_1_sub4[0][0]               \n",
            "__________________________________________________________________________________________________\n",
            "padding5 (ZeroPadding2D)        (None, 12, 42, 64)   0           conv3_2_1x1_reduce[0][0]         \n",
            "__________________________________________________________________________________________________\n",
            "conv3_2_3x3 (Conv2D)            (None, 10, 40, 64)   36928       padding5[0][0]                   \n",
            "__________________________________________________________________________________________________\n",
            "conv3_2_1x1_increase (Conv2D)   (None, 10, 40, 256)  16640       conv3_2_3x3[0][0]                \n",
            "__________________________________________________________________________________________________\n",
            "conv3_2 (Add)                   (None, 10, 40, 256)  0           conv3_2_1x1_increase[0][0]       \n",
            "                                                                 conv3_1_sub4[0][0]               \n",
            "__________________________________________________________________________________________________\n",
            "conv3_2/relu (Activation)       (None, 10, 40, 256)  0           conv3_2[0][0]                    \n",
            "__________________________________________________________________________________________________\n",
            "conv3_3_1x1_reduce (Conv2D)     (None, 10, 40, 64)   16448       conv3_2/relu[0][0]               \n",
            "__________________________________________________________________________________________________\n",
            "padding6 (ZeroPadding2D)        (None, 12, 42, 64)   0           conv3_3_1x1_reduce[0][0]         \n",
            "__________________________________________________________________________________________________\n",
            "conv3_3_3x3 (Conv2D)            (None, 10, 40, 64)   36928       padding6[0][0]                   \n",
            "__________________________________________________________________________________________________\n",
            "conv3_3_1x1_increase (Conv2D)   (None, 10, 40, 256)  16640       conv3_3_3x3[0][0]                \n",
            "__________________________________________________________________________________________________\n",
            "conv3_3 (Add)                   (None, 10, 40, 256)  0           conv3_3_1x1_increase[0][0]       \n",
            "                                                                 conv3_2/relu[0][0]               \n",
            "__________________________________________________________________________________________________\n",
            "conv3_3/relu (Activation)       (None, 10, 40, 256)  0           conv3_3[0][0]                    \n",
            "__________________________________________________________________________________________________\n",
            "conv3_4_1x1_reduce (Conv2D)     (None, 10, 40, 64)   16448       conv3_3/relu[0][0]               \n",
            "__________________________________________________________________________________________________\n",
            "padding7 (ZeroPadding2D)        (None, 12, 42, 64)   0           conv3_4_1x1_reduce[0][0]         \n",
            "__________________________________________________________________________________________________\n",
            "conv3_4_3x3 (Conv2D)            (None, 10, 40, 64)   36928       padding7[0][0]                   \n",
            "__________________________________________________________________________________________________\n",
            "conv3_4_1x1_increase (Conv2D)   (None, 10, 40, 256)  16640       conv3_4_3x3[0][0]                \n",
            "__________________________________________________________________________________________________\n",
            "conv3_4 (Add)                   (None, 10, 40, 256)  0           conv3_4_1x1_increase[0][0]       \n",
            "                                                                 conv3_3/relu[0][0]               \n",
            "__________________________________________________________________________________________________\n",
            "conv3_4/relu (Activation)       (None, 10, 40, 256)  0           conv3_4[0][0]                    \n",
            "__________________________________________________________________________________________________\n",
            "conv4_1_1x1_reduce (Conv2D)     (None, 10, 40, 128)  32896       conv3_4/relu[0][0]               \n",
            "__________________________________________________________________________________________________\n",
            "padding8 (ZeroPadding2D)        (None, 14, 44, 128)  0           conv4_1_1x1_reduce[0][0]         \n",
            "__________________________________________________________________________________________________\n",
            "conv4_1_3x3 (Conv2D)            (None, 10, 40, 128)  147584      padding8[0][0]                   \n",
            "__________________________________________________________________________________________________\n",
            "conv4_1_1x1_proj (Conv2D)       (None, 10, 40, 512)  131584      conv3_4/relu[0][0]               \n",
            "__________________________________________________________________________________________________\n",
            "conv4_1_1x1_increase (Conv2D)   (None, 10, 40, 512)  66048       conv4_1_3x3[0][0]                \n",
            "__________________________________________________________________________________________________\n",
            "conv4_1 (Add)                   (None, 10, 40, 512)  0           conv4_1_1x1_proj[0][0]           \n",
            "                                                                 conv4_1_1x1_increase[0][0]       \n",
            "__________________________________________________________________________________________________\n",
            "conv4_1/relu (Activation)       (None, 10, 40, 512)  0           conv4_1[0][0]                    \n",
            "__________________________________________________________________________________________________\n",
            "conv4_2_1x1_reduce (Conv2D)     (None, 10, 40, 128)  65664       conv4_1/relu[0][0]               \n",
            "__________________________________________________________________________________________________\n",
            "padding9 (ZeroPadding2D)        (None, 14, 44, 128)  0           conv4_2_1x1_reduce[0][0]         \n",
            "__________________________________________________________________________________________________\n",
            "conv4_2_3x3 (Conv2D)            (None, 10, 40, 128)  147584      padding9[0][0]                   \n",
            "__________________________________________________________________________________________________\n",
            "conv4_2_1x1_increase (Conv2D)   (None, 10, 40, 512)  66048       conv4_2_3x3[0][0]                \n",
            "__________________________________________________________________________________________________\n",
            "conv4_2 (Add)                   (None, 10, 40, 512)  0           conv4_2_1x1_increase[0][0]       \n",
            "                                                                 conv4_1/relu[0][0]               \n",
            "__________________________________________________________________________________________________\n",
            "conv4_2/relu (Activation)       (None, 10, 40, 512)  0           conv4_2[0][0]                    \n",
            "__________________________________________________________________________________________________\n",
            "conv4_3_1x1_reduce (Conv2D)     (None, 10, 40, 128)  65664       conv4_2/relu[0][0]               \n",
            "__________________________________________________________________________________________________\n",
            "padding10 (ZeroPadding2D)       (None, 14, 44, 128)  0           conv4_3_1x1_reduce[0][0]         \n",
            "__________________________________________________________________________________________________\n",
            "conv4_3_3x3 (Conv2D)            (None, 10, 40, 128)  147584      padding10[0][0]                  \n",
            "__________________________________________________________________________________________________\n",
            "conv4_3_1x1_increase (Conv2D)   (None, 10, 40, 512)  66048       conv4_3_3x3[0][0]                \n",
            "__________________________________________________________________________________________________\n",
            "conv4_3 (Add)                   (None, 10, 40, 512)  0           conv4_3_1x1_increase[0][0]       \n",
            "                                                                 conv4_2/relu[0][0]               \n",
            "__________________________________________________________________________________________________\n",
            "conv4_3/relu (Activation)       (None, 10, 40, 512)  0           conv4_3[0][0]                    \n",
            "__________________________________________________________________________________________________\n",
            "conv4_4_1x1_reduce (Conv2D)     (None, 10, 40, 128)  65664       conv4_3/relu[0][0]               \n",
            "__________________________________________________________________________________________________\n",
            "padding11 (ZeroPadding2D)       (None, 14, 44, 128)  0           conv4_4_1x1_reduce[0][0]         \n",
            "__________________________________________________________________________________________________\n",
            "conv4_4_3x3 (Conv2D)            (None, 10, 40, 128)  147584      padding11[0][0]                  \n",
            "__________________________________________________________________________________________________\n",
            "conv4_4_1x1_increase (Conv2D)   (None, 10, 40, 512)  66048       conv4_4_3x3[0][0]                \n",
            "__________________________________________________________________________________________________\n",
            "conv4_4 (Add)                   (None, 10, 40, 512)  0           conv4_4_1x1_increase[0][0]       \n",
            "                                                                 conv4_3/relu[0][0]               \n",
            "__________________________________________________________________________________________________\n",
            "conv4_4/relu (Activation)       (None, 10, 40, 512)  0           conv4_4[0][0]                    \n",
            "__________________________________________________________________________________________________\n",
            "conv4_5_1x1_reduce (Conv2D)     (None, 10, 40, 128)  65664       conv4_4/relu[0][0]               \n",
            "__________________________________________________________________________________________________\n",
            "padding12 (ZeroPadding2D)       (None, 14, 44, 128)  0           conv4_5_1x1_reduce[0][0]         \n",
            "__________________________________________________________________________________________________\n",
            "conv4_5_3x3 (Conv2D)            (None, 10, 40, 128)  147584      padding12[0][0]                  \n",
            "__________________________________________________________________________________________________\n",
            "conv4_5_1x1_increase (Conv2D)   (None, 10, 40, 512)  66048       conv4_5_3x3[0][0]                \n",
            "__________________________________________________________________________________________________\n",
            "conv4_5 (Add)                   (None, 10, 40, 512)  0           conv4_5_1x1_increase[0][0]       \n",
            "                                                                 conv4_4/relu[0][0]               \n",
            "__________________________________________________________________________________________________\n",
            "conv4_5/relu (Activation)       (None, 10, 40, 512)  0           conv4_5[0][0]                    \n",
            "__________________________________________________________________________________________________\n",
            "conv4_6_1x1_reduce (Conv2D)     (None, 10, 40, 128)  65664       conv4_5/relu[0][0]               \n",
            "__________________________________________________________________________________________________\n",
            "padding13 (ZeroPadding2D)       (None, 14, 44, 128)  0           conv4_6_1x1_reduce[0][0]         \n",
            "__________________________________________________________________________________________________\n",
            "conv4_6_3x3 (Conv2D)            (None, 10, 40, 128)  147584      padding13[0][0]                  \n",
            "__________________________________________________________________________________________________\n",
            "conv4_6_1x1_increase (Conv2D)   (None, 10, 40, 512)  66048       conv4_6_3x3[0][0]                \n",
            "__________________________________________________________________________________________________\n",
            "conv4_6 (Add)                   (None, 10, 40, 512)  0           conv4_6_1x1_increase[0][0]       \n",
            "                                                                 conv4_5/relu[0][0]               \n",
            "__________________________________________________________________________________________________\n",
            "conv4_6/relu (Activation)       (None, 10, 40, 512)  0           conv4_6[0][0]                    \n",
            "__________________________________________________________________________________________________\n",
            "conv5_1_1x1_reduce (Conv2D)     (None, 10, 40, 256)  131328      conv4_6/relu[0][0]               \n",
            "__________________________________________________________________________________________________\n",
            "padding14 (ZeroPadding2D)       (None, 18, 48, 256)  0           conv5_1_1x1_reduce[0][0]         \n",
            "__________________________________________________________________________________________________\n",
            "conv5_1_3x3 (Conv2D)            (None, 10, 40, 256)  590080      padding14[0][0]                  \n",
            "__________________________________________________________________________________________________\n",
            "conv5_1_1x1_increase (Conv2D)   (None, 10, 40, 1024) 263168      conv5_1_3x3[0][0]                \n",
            "__________________________________________________________________________________________________\n",
            "conv5_1_1x1_proj (Conv2D)       (None, 10, 40, 1024) 525312      conv4_6/relu[0][0]               \n",
            "__________________________________________________________________________________________________\n",
            "conv5_1 (Add)                   (None, 10, 40, 1024) 0           conv5_1_1x1_increase[0][0]       \n",
            "                                                                 conv5_1_1x1_proj[0][0]           \n",
            "__________________________________________________________________________________________________\n",
            "conv5_1/relu (Activation)       (None, 10, 40, 1024) 0           conv5_1[0][0]                    \n",
            "__________________________________________________________________________________________________\n",
            "conv5_2_1x1_reduce (Conv2D)     (None, 10, 40, 256)  262400      conv5_1/relu[0][0]               \n",
            "__________________________________________________________________________________________________\n",
            "padding15 (ZeroPadding2D)       (None, 18, 48, 256)  0           conv5_2_1x1_reduce[0][0]         \n",
            "__________________________________________________________________________________________________\n",
            "conv5_2_3x3 (Conv2D)            (None, 10, 40, 256)  590080      padding15[0][0]                  \n",
            "__________________________________________________________________________________________________\n",
            "conv5_2_1x1_increase (Conv2D)   (None, 10, 40, 1024) 263168      conv5_2_3x3[0][0]                \n",
            "__________________________________________________________________________________________________\n",
            "conv5_2 (Add)                   (None, 10, 40, 1024) 0           conv5_2_1x1_increase[0][0]       \n",
            "                                                                 conv5_1/relu[0][0]               \n",
            "__________________________________________________________________________________________________\n",
            "conv5_2/relu (Activation)       (None, 10, 40, 1024) 0           conv5_2[0][0]                    \n",
            "__________________________________________________________________________________________________\n",
            "conv5_3_1x1_reduce (Conv2D)     (None, 10, 40, 256)  262400      conv5_2/relu[0][0]               \n",
            "__________________________________________________________________________________________________\n",
            "padding16 (ZeroPadding2D)       (None, 18, 48, 256)  0           conv5_3_1x1_reduce[0][0]         \n",
            "__________________________________________________________________________________________________\n",
            "conv5_3_3x3 (Conv2D)            (None, 10, 40, 256)  590080      padding16[0][0]                  \n",
            "__________________________________________________________________________________________________\n",
            "conv5_3_1x1_increase (Conv2D)   (None, 10, 40, 1024) 263168      conv5_3_3x3[0][0]                \n",
            "__________________________________________________________________________________________________\n",
            "conv5_3 (Add)                   (None, 10, 40, 1024) 0           conv5_3_1x1_increase[0][0]       \n",
            "                                                                 conv5_2/relu[0][0]               \n",
            "__________________________________________________________________________________________________\n",
            "conv5_3/relu (Activation)       (None, 10, 40, 1024) 0           conv5_3[0][0]                    \n",
            "__________________________________________________________________________________________________\n",
            "conv5_3_pool1 (AveragePooling2D (None, 1, 1, 1024)   0           conv5_3/relu[0][0]               \n",
            "__________________________________________________________________________________________________\n",
            "conv5_3_pool2 (AveragePooling2D (None, 2.0, 2.0, 102 0           conv5_3/relu[0][0]               \n",
            "__________________________________________________________________________________________________\n",
            "conv5_3_pool3 (AveragePooling2D (None, 3.0, 3.0, 102 0           conv5_3/relu[0][0]               \n",
            "__________________________________________________________________________________________________\n",
            "conv5_3_pool6 (AveragePooling2D (None, 4.0, 4.0, 102 0           conv5_3/relu[0][0]               \n",
            "__________________________________________________________________________________________________\n",
            "conv5_3_pool1_interp (Lambda)   (None, 10, 40, 1024) 0           conv5_3_pool1[0][0]              \n",
            "__________________________________________________________________________________________________\n",
            "conv5_3_pool2_interp (Lambda)   (None, 10, 40, 1024) 0           conv5_3_pool2[0][0]              \n",
            "__________________________________________________________________________________________________\n",
            "conv5_3_pool3_interp (Lambda)   (None, 10, 40, 1024) 0           conv5_3_pool3[0][0]              \n",
            "__________________________________________________________________________________________________\n",
            "conv5_3_pool6_interp (Lambda)   (None, 10, 40, 1024) 0           conv5_3_pool6[0][0]              \n",
            "__________________________________________________________________________________________________\n",
            "conv5_3_sum (Add)               (None, 10, 40, 1024) 0           conv5_3/relu[0][0]               \n",
            "                                                                 conv5_3_pool1_interp[0][0]       \n",
            "                                                                 conv5_3_pool2_interp[0][0]       \n",
            "                                                                 conv5_3_pool3_interp[0][0]       \n",
            "                                                                 conv5_3_pool6_interp[0][0]       \n",
            "__________________________________________________________________________________________________\n",
            "conv5_4_k1 (Conv2D)             (None, 10, 40, 256)  262400      conv5_3_sum[0][0]                \n",
            "__________________________________________________________________________________________________\n",
            "conv5_4_interp (Lambda)         (None, 20, 80, 256)  0           conv5_4_k1[0][0]                 \n",
            "__________________________________________________________________________________________________\n",
            "padding17 (ZeroPadding2D)       (None, 24, 84, 256)  0           conv5_4_interp[0][0]             \n",
            "__________________________________________________________________________________________________\n",
            "conv_sub4 (Conv2D)              (None, 20, 80, 128)  295040      padding17[0][0]                  \n",
            "__________________________________________________________________________________________________\n",
            "conv3_1_sub2_proj (Conv2D)      (None, 20, 80, 128)  32896       conv3_1/relu[0][0]               \n",
            "__________________________________________________________________________________________________\n",
            "sub24_sum (Add)                 (None, 20, 80, 128)  0           conv_sub4[0][0]                  \n",
            "                                                                 conv3_1_sub2_proj[0][0]          \n",
            "__________________________________________________________________________________________________\n",
            "conv1_sub1 (Conv2D)             (None, 160, 640, 32) 896         lambda_1[0][0]                   \n",
            "__________________________________________________________________________________________________\n",
            "sub24_sum/relu (Activation)     (None, 20, 80, 128)  0           sub24_sum[0][0]                  \n",
            "__________________________________________________________________________________________________\n",
            "conv2_sub1 (Conv2D)             (None, 80, 320, 32)  9248        conv1_sub1[0][0]                 \n",
            "__________________________________________________________________________________________________\n",
            "sub24_sum_interp (Lambda)       (None, 40, 160, 128) 0           sub24_sum/relu[0][0]             \n",
            "__________________________________________________________________________________________________\n",
            "conv3_sub1 (Conv2D)             (None, 40, 160, 64)  18496       conv2_sub1[0][0]                 \n",
            "__________________________________________________________________________________________________\n",
            "padding18 (ZeroPadding2D)       (None, 44, 164, 128) 0           sub24_sum_interp[0][0]           \n",
            "__________________________________________________________________________________________________\n",
            "conv3_sub1_proj (Conv2D)        (None, 40, 160, 128) 8320        conv3_sub1[0][0]                 \n",
            "__________________________________________________________________________________________________\n",
            "conv_sub2 (Conv2D)              (None, 40, 160, 128) 147584      padding18[0][0]                  \n",
            "__________________________________________________________________________________________________\n",
            "sub12_sum (Add)                 (None, 40, 160, 128) 0           conv3_sub1_proj[0][0]            \n",
            "                                                                 conv_sub2[0][0]                  \n",
            "__________________________________________________________________________________________________\n",
            "sub12_sum/relu (Activation)     (None, 40, 160, 128) 0           sub12_sum[0][0]                  \n",
            "__________________________________________________________________________________________________\n",
            "sub12_sum_interp (Lambda)       (None, 80, 320, 128) 0           sub12_sum/relu[0][0]             \n",
            "__________________________________________________________________________________________________\n",
            "conv6_cls (Conv2D)              (None, 80, 320, 3)   387         sub12_sum_interp[0][0]           \n",
            "__________________________________________________________________________________________________\n",
            "sub24_out (Conv2D)              (None, 40, 160, 3)   387         sub24_sum_interp[0][0]           \n",
            "__________________________________________________________________________________________________\n",
            "sub4_out (Conv2D)               (None, 20, 80, 3)    771         conv5_4_interp[0][0]             \n",
            "==================================================================================================\n",
            "Total params: 6,684,809\n",
            "Trainable params: 6,684,809\n",
            "Non-trainable params: 0\n",
            "__________________________________________________________________________________________________\n"
          ],
          "name": "stdout"
        }
      ]
    },
    {
      "cell_type": "code",
      "metadata": {
        "id": "72M_c5Mol_s3",
        "colab_type": "code",
        "colab": {}
      },
      "source": [
        "def predict(y):\n",
        "    \n",
        "    yy = [] \n",
        "    for i in range(y.shape[0]):\n",
        "        yy.append(cv2.resize(y[i],dm))\n",
        "    y=[]\n",
        "    a = np.argmax(yy,axis=3)\n",
        "    \n",
        "    yy=[]\n",
        "    return a "
      ],
      "execution_count": 0,
      "outputs": []
    },
    {
      "cell_type": "code",
      "metadata": {
        "id": "1gOloBUGwqr8",
        "colab_type": "code",
        "colab": {}
      },
      "source": [
        "y = model.predict(X)\n",
        "y = y[0]"
      ],
      "execution_count": 0,
      "outputs": []
    },
    {
      "cell_type": "code",
      "metadata": {
        "id": "F8EF0z9n71Rx",
        "colab_type": "code",
        "colab": {}
      },
      "source": [
        "y = predict(y[501:1500])"
      ],
      "execution_count": 0,
      "outputs": []
    },
    {
      "cell_type": "code",
      "metadata": {
        "id": "fbvWTm6Qz52a",
        "colab_type": "code",
        "colab": {}
      },
      "source": [
        "def paint(X,y) :\n",
        "  prd_list=[] \n",
        "  for ctr in range(y.shape[0]):\n",
        "    prd = X[ctr]\n",
        "    for i in range(np.shape(prd)[0]):\n",
        "      for j in range(np.shape(prd)[1]):\n",
        "          if y[ctr][i][j]==2:\n",
        "             prd[i][j]=(0,255,0)\n",
        "    prd_list.append(prd)\n",
        "  return prd_list"
      ],
      "execution_count": 0,
      "outputs": []
    },
    {
      "cell_type": "code",
      "metadata": {
        "id": "92O4IKOrmuCl",
        "colab_type": "code",
        "colab": {}
      },
      "source": [
        "a = paint(X,y)"
      ],
      "execution_count": 0,
      "outputs": []
    },
    {
      "cell_type": "code",
      "metadata": {
        "id": "9nzLc1TJ4njL",
        "colab_type": "code",
        "colab": {}
      },
      "source": [
        "to_video(a)"
      ],
      "execution_count": 0,
      "outputs": []
    }
  ]
}